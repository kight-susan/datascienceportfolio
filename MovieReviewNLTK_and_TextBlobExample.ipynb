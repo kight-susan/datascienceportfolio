{
 "cells": [
  {
   "cell_type": "markdown",
   "metadata": {},
   "source": [
    "# NLP - Text Analytics of Movie Reviews Data with NLTK and TextBlob"
   ]
  },
  {
   "cell_type": "markdown",
   "metadata": {},
   "source": [
    "By: Susan Kight\n",
    "\n",
    "Leveraging  movie reviews data from the IMDb website, I will be exploring what type of information is shared within the reviews that are left and to be able to understand this when working with large volumes of text data."
   ]
  },
  {
   "cell_type": "markdown",
   "metadata": {},
   "source": [
    "## Prerequisite Libraries\n",
    "\n",
    "The below libraries are needed for this text analytics project."
   ]
  },
  {
   "cell_type": "code",
   "execution_count": null,
   "metadata": {},
   "outputs": [],
   "source": [
    "#! pip install --user nltk textblob\n",
    "#! python -m nltk.downloader stopwords\n",
    "#! python -m textblob.download_corpora"
   ]
  },
  {
   "cell_type": "markdown",
   "metadata": {},
   "source": [
    "## Importing modules"
   ]
  },
  {
   "cell_type": "code",
   "execution_count": 1,
   "metadata": {},
   "outputs": [],
   "source": [
    "from collections import Counter              # word counting\n",
    "import nltk                                  # text processing\n",
    "import pandas as pd                          # handling Pandas dataframes\n",
    "from textblob import TextBlob                # sentiment analysis and language detection and translation \n",
    "\n",
    "pd.set_option('display.max_colwidth', 200)   # set the maximum column width to 200"
   ]
  },
  {
   "cell_type": "markdown",
   "metadata": {},
   "source": [
    "## Part 1 - Loading a CSV File into a Pandas Dataframe\n",
    "\n",
    "File contains movie reviews data from IMDb."
   ]
  },
  {
   "cell_type": "code",
   "execution_count": 2,
   "metadata": {},
   "outputs": [],
   "source": [
    "df = pd.read_csv(\"data/imdb_data.csv\", sep=\",\", header=0)\n",
    "df.columns=['text']"
   ]
  },
  {
   "cell_type": "code",
   "execution_count": 4,
   "metadata": {
    "scrolled": false
   },
   "outputs": [
    {
     "data": {
      "text/html": [
       "<div>\n",
       "<style scoped>\n",
       "    .dataframe tbody tr th:only-of-type {\n",
       "        vertical-align: middle;\n",
       "    }\n",
       "\n",
       "    .dataframe tbody tr th {\n",
       "        vertical-align: top;\n",
       "    }\n",
       "\n",
       "    .dataframe thead th {\n",
       "        text-align: right;\n",
       "    }\n",
       "</style>\n",
       "<table border=\"1\" class=\"dataframe\">\n",
       "  <thead>\n",
       "    <tr style=\"text-align: right;\">\n",
       "      <th></th>\n",
       "      <th>text</th>\n",
       "    </tr>\n",
       "  </thead>\n",
       "  <tbody>\n",
       "    <tr>\n",
       "      <th>0</th>\n",
       "      <td>One of the other reviewers has mentioned that after watching just 1 Oz episode you'll be hooked. They are right, as this is exactly what happened with me.&lt;br /&gt;&lt;br /&gt;The first thing that struck me...</td>\n",
       "    </tr>\n",
       "    <tr>\n",
       "      <th>1</th>\n",
       "      <td>A wonderful little production. &lt;br /&gt;&lt;br /&gt;The filming technique is very unassuming- very old-time-BBC fashion and gives a comforting, and sometimes discomforting, sense of realism to the entire p...</td>\n",
       "    </tr>\n",
       "    <tr>\n",
       "      <th>2</th>\n",
       "      <td>I thought this was a wonderful way to spend time on a too hot summer weekend, sitting in the air conditioned theater and watching a light-hearted comedy. The plot is simplistic, but the dialogue i...</td>\n",
       "    </tr>\n",
       "    <tr>\n",
       "      <th>3</th>\n",
       "      <td>Basically there's a family where a little boy (Jake) thinks there's a zombie in his closet &amp; his parents are fighting all the time.&lt;br /&gt;&lt;br /&gt;This movie is slower than a soap opera... and suddenl...</td>\n",
       "    </tr>\n",
       "    <tr>\n",
       "      <th>4</th>\n",
       "      <td>Petter Mattei's \"Love in the Time of Money\" is a visually stunning film to watch. Mr. Mattei offers us a vivid portrait about human relations. This is a movie that seems to be telling us what mone...</td>\n",
       "    </tr>\n",
       "  </tbody>\n",
       "</table>\n",
       "</div>"
      ],
      "text/plain": [
       "                                                                                                                                                                                                      text\n",
       "0  One of the other reviewers has mentioned that after watching just 1 Oz episode you'll be hooked. They are right, as this is exactly what happened with me.<br /><br />The first thing that struck me...\n",
       "1  A wonderful little production. <br /><br />The filming technique is very unassuming- very old-time-BBC fashion and gives a comforting, and sometimes discomforting, sense of realism to the entire p...\n",
       "2  I thought this was a wonderful way to spend time on a too hot summer weekend, sitting in the air conditioned theater and watching a light-hearted comedy. The plot is simplistic, but the dialogue i...\n",
       "3  Basically there's a family where a little boy (Jake) thinks there's a zombie in his closet & his parents are fighting all the time.<br /><br />This movie is slower than a soap opera... and suddenl...\n",
       "4  Petter Mattei's \"Love in the Time of Money\" is a visually stunning film to watch. Mr. Mattei offers us a vivid portrait about human relations. This is a movie that seems to be telling us what mone..."
      ]
     },
     "execution_count": 4,
     "metadata": {},
     "output_type": "execute_result"
    }
   ],
   "source": [
    "#view the first few rows to check loaded correctly\n",
    "df.head()"
   ]
  },
  {
   "cell_type": "code",
   "execution_count": 5,
   "metadata": {
    "scrolled": true
   },
   "outputs": [
    {
     "data": {
      "text/plain": [
       "(1000, 1)"
      ]
     },
     "execution_count": 5,
     "metadata": {},
     "output_type": "execute_result"
    }
   ],
   "source": [
    "df.shape"
   ]
  },
  {
   "cell_type": "markdown",
   "metadata": {},
   "source": [
    "The dataset being used has 1000 rows and the 1 column. I will be exploring the data within this 1 column in further detail throughout this analysis to derive meaningful insights using text processing and mining techniques."
   ]
  },
  {
   "cell_type": "markdown",
   "metadata": {},
   "source": [
    "## Part 2 - Text Processing and Mining Techniques"
   ]
  },
  {
   "cell_type": "markdown",
   "metadata": {},
   "source": [
    "### Deriving New Columns From an Existing Column\n",
    "\n",
    "In order to start analyzing the data, I need to derive new columns from the set of existing columns."
   ]
  },
  {
   "cell_type": "markdown",
   "metadata": {},
   "source": [
    "#### New Column for Text Length\n",
    "\n",
    "First, let's start by looking at the first 5 rows of existing column that we want to work with:"
   ]
  },
  {
   "cell_type": "code",
   "execution_count": 6,
   "metadata": {
    "scrolled": true
   },
   "outputs": [
    {
     "data": {
      "text/plain": [
       "0    One of the other reviewers has mentioned that after watching just 1 Oz episode you'll be hooked. They are right, as this is exactly what happened with me.<br /><br />The first thing that struck me...\n",
       "1    A wonderful little production. <br /><br />The filming technique is very unassuming- very old-time-BBC fashion and gives a comforting, and sometimes discomforting, sense of realism to the entire p...\n",
       "2    I thought this was a wonderful way to spend time on a too hot summer weekend, sitting in the air conditioned theater and watching a light-hearted comedy. The plot is simplistic, but the dialogue i...\n",
       "3    Basically there's a family where a little boy (Jake) thinks there's a zombie in his closet & his parents are fighting all the time.<br /><br />This movie is slower than a soap opera... and suddenl...\n",
       "4    Petter Mattei's \"Love in the Time of Money\" is a visually stunning film to watch. Mr. Mattei offers us a vivid portrait about human relations. This is a movie that seems to be telling us what mone...\n",
       "Name: text, dtype: object"
      ]
     },
     "execution_count": 6,
     "metadata": {},
     "output_type": "execute_result"
    }
   ],
   "source": [
    "df.text[:5]"
   ]
  },
  {
   "cell_type": "markdown",
   "metadata": {},
   "source": [
    "Now I am ready to add a new column leveraging this existing column. I will do this using a lambda function for length if text with the apply function leveraged to create a new column that has the value of the text length."
   ]
  },
  {
   "cell_type": "code",
   "execution_count": 7,
   "metadata": {},
   "outputs": [],
   "source": [
    "df[\"text_length\"] = df.text.apply(lambda x: len(x))"
   ]
  },
  {
   "cell_type": "code",
   "execution_count": 8,
   "metadata": {},
   "outputs": [
    {
     "data": {
      "text/html": [
       "<div>\n",
       "<style scoped>\n",
       "    .dataframe tbody tr th:only-of-type {\n",
       "        vertical-align: middle;\n",
       "    }\n",
       "\n",
       "    .dataframe tbody tr th {\n",
       "        vertical-align: top;\n",
       "    }\n",
       "\n",
       "    .dataframe thead th {\n",
       "        text-align: right;\n",
       "    }\n",
       "</style>\n",
       "<table border=\"1\" class=\"dataframe\">\n",
       "  <thead>\n",
       "    <tr style=\"text-align: right;\">\n",
       "      <th></th>\n",
       "      <th>text</th>\n",
       "      <th>text_length</th>\n",
       "    </tr>\n",
       "  </thead>\n",
       "  <tbody>\n",
       "    <tr>\n",
       "      <th>0</th>\n",
       "      <td>One of the other reviewers has mentioned that after watching just 1 Oz episode you'll be hooked. They are right, as this is exactly what happened with me.&lt;br /&gt;&lt;br /&gt;The first thing that struck me...</td>\n",
       "      <td>1761</td>\n",
       "    </tr>\n",
       "    <tr>\n",
       "      <th>1</th>\n",
       "      <td>A wonderful little production. &lt;br /&gt;&lt;br /&gt;The filming technique is very unassuming- very old-time-BBC fashion and gives a comforting, and sometimes discomforting, sense of realism to the entire p...</td>\n",
       "      <td>998</td>\n",
       "    </tr>\n",
       "    <tr>\n",
       "      <th>2</th>\n",
       "      <td>I thought this was a wonderful way to spend time on a too hot summer weekend, sitting in the air conditioned theater and watching a light-hearted comedy. The plot is simplistic, but the dialogue i...</td>\n",
       "      <td>926</td>\n",
       "    </tr>\n",
       "    <tr>\n",
       "      <th>3</th>\n",
       "      <td>Basically there's a family where a little boy (Jake) thinks there's a zombie in his closet &amp; his parents are fighting all the time.&lt;br /&gt;&lt;br /&gt;This movie is slower than a soap opera... and suddenl...</td>\n",
       "      <td>748</td>\n",
       "    </tr>\n",
       "    <tr>\n",
       "      <th>4</th>\n",
       "      <td>Petter Mattei's \"Love in the Time of Money\" is a visually stunning film to watch. Mr. Mattei offers us a vivid portrait about human relations. This is a movie that seems to be telling us what mone...</td>\n",
       "      <td>1317</td>\n",
       "    </tr>\n",
       "  </tbody>\n",
       "</table>\n",
       "</div>"
      ],
      "text/plain": [
       "                                                                                                                                                                                                      text  \\\n",
       "0  One of the other reviewers has mentioned that after watching just 1 Oz episode you'll be hooked. They are right, as this is exactly what happened with me.<br /><br />The first thing that struck me...   \n",
       "1  A wonderful little production. <br /><br />The filming technique is very unassuming- very old-time-BBC fashion and gives a comforting, and sometimes discomforting, sense of realism to the entire p...   \n",
       "2  I thought this was a wonderful way to spend time on a too hot summer weekend, sitting in the air conditioned theater and watching a light-hearted comedy. The plot is simplistic, but the dialogue i...   \n",
       "3  Basically there's a family where a little boy (Jake) thinks there's a zombie in his closet & his parents are fighting all the time.<br /><br />This movie is slower than a soap opera... and suddenl...   \n",
       "4  Petter Mattei's \"Love in the Time of Money\" is a visually stunning film to watch. Mr. Mattei offers us a vivid portrait about human relations. This is a movie that seems to be telling us what mone...   \n",
       "\n",
       "   text_length  \n",
       "0         1761  \n",
       "1          998  \n",
       "2          926  \n",
       "3          748  \n",
       "4         1317  "
      ]
     },
     "execution_count": 8,
     "metadata": {},
     "output_type": "execute_result"
    }
   ],
   "source": [
    "#view the first few rows of both columns\n",
    "df[[\"text\", \"text_length\"]].head()"
   ]
  },
  {
   "cell_type": "markdown",
   "metadata": {},
   "source": [
    "#### Adding a New Column for Tokens\n",
    "\n",
    "Next, I'll be adding a new column using NLTK for text processing that has a list of tokens from the <i>text</i> column."
   ]
  },
  {
   "cell_type": "code",
   "execution_count": 9,
   "metadata": {},
   "outputs": [],
   "source": [
    "df[\"tokens\"] = df.text.apply(lambda x: nltk.word_tokenize(x))"
   ]
  },
  {
   "cell_type": "code",
   "execution_count": 10,
   "metadata": {
    "scrolled": false
   },
   "outputs": [
    {
     "data": {
      "text/html": [
       "<div>\n",
       "<style scoped>\n",
       "    .dataframe tbody tr th:only-of-type {\n",
       "        vertical-align: middle;\n",
       "    }\n",
       "\n",
       "    .dataframe tbody tr th {\n",
       "        vertical-align: top;\n",
       "    }\n",
       "\n",
       "    .dataframe thead th {\n",
       "        text-align: right;\n",
       "    }\n",
       "</style>\n",
       "<table border=\"1\" class=\"dataframe\">\n",
       "  <thead>\n",
       "    <tr style=\"text-align: right;\">\n",
       "      <th></th>\n",
       "      <th>text</th>\n",
       "      <th>tokens</th>\n",
       "    </tr>\n",
       "  </thead>\n",
       "  <tbody>\n",
       "    <tr>\n",
       "      <th>0</th>\n",
       "      <td>One of the other reviewers has mentioned that after watching just 1 Oz episode you'll be hooked. They are right, as this is exactly what happened with me.&lt;br /&gt;&lt;br /&gt;The first thing that struck me...</td>\n",
       "      <td>[One, of, the, other, reviewers, has, mentioned, that, after, watching, just, 1, Oz, episode, you, 'll, be, hooked, ., They, are, right, ,, as, this, is, exactly, what, happened, with, me., &lt;, br,...</td>\n",
       "    </tr>\n",
       "    <tr>\n",
       "      <th>1</th>\n",
       "      <td>A wonderful little production. &lt;br /&gt;&lt;br /&gt;The filming technique is very unassuming- very old-time-BBC fashion and gives a comforting, and sometimes discomforting, sense of realism to the entire p...</td>\n",
       "      <td>[A, wonderful, little, production, ., &lt;, br, /, &gt;, &lt;, br, /, &gt;, The, filming, technique, is, very, unassuming-, very, old-time-BBC, fashion, and, gives, a, comforting, ,, and, sometimes, discomfor...</td>\n",
       "    </tr>\n",
       "    <tr>\n",
       "      <th>2</th>\n",
       "      <td>I thought this was a wonderful way to spend time on a too hot summer weekend, sitting in the air conditioned theater and watching a light-hearted comedy. The plot is simplistic, but the dialogue i...</td>\n",
       "      <td>[I, thought, this, was, a, wonderful, way, to, spend, time, on, a, too, hot, summer, weekend, ,, sitting, in, the, air, conditioned, theater, and, watching, a, light-hearted, comedy, ., The, plot,...</td>\n",
       "    </tr>\n",
       "    <tr>\n",
       "      <th>3</th>\n",
       "      <td>Basically there's a family where a little boy (Jake) thinks there's a zombie in his closet &amp; his parents are fighting all the time.&lt;br /&gt;&lt;br /&gt;This movie is slower than a soap opera... and suddenl...</td>\n",
       "      <td>[Basically, there, 's, a, family, where, a, little, boy, (, Jake, ), thinks, there, 's, a, zombie, in, his, closet, &amp;, his, parents, are, fighting, all, the, time., &lt;, br, /, &gt;, &lt;, br, /, &gt;, This,...</td>\n",
       "    </tr>\n",
       "    <tr>\n",
       "      <th>4</th>\n",
       "      <td>Petter Mattei's \"Love in the Time of Money\" is a visually stunning film to watch. Mr. Mattei offers us a vivid portrait about human relations. This is a movie that seems to be telling us what mone...</td>\n",
       "      <td>[Petter, Mattei, 's, ``, Love, in, the, Time, of, Money, '', is, a, visually, stunning, film, to, watch, ., Mr., Mattei, offers, us, a, vivid, portrait, about, human, relations, ., This, is, a, mo...</td>\n",
       "    </tr>\n",
       "  </tbody>\n",
       "</table>\n",
       "</div>"
      ],
      "text/plain": [
       "                                                                                                                                                                                                      text  \\\n",
       "0  One of the other reviewers has mentioned that after watching just 1 Oz episode you'll be hooked. They are right, as this is exactly what happened with me.<br /><br />The first thing that struck me...   \n",
       "1  A wonderful little production. <br /><br />The filming technique is very unassuming- very old-time-BBC fashion and gives a comforting, and sometimes discomforting, sense of realism to the entire p...   \n",
       "2  I thought this was a wonderful way to spend time on a too hot summer weekend, sitting in the air conditioned theater and watching a light-hearted comedy. The plot is simplistic, but the dialogue i...   \n",
       "3  Basically there's a family where a little boy (Jake) thinks there's a zombie in his closet & his parents are fighting all the time.<br /><br />This movie is slower than a soap opera... and suddenl...   \n",
       "4  Petter Mattei's \"Love in the Time of Money\" is a visually stunning film to watch. Mr. Mattei offers us a vivid portrait about human relations. This is a movie that seems to be telling us what mone...   \n",
       "\n",
       "                                                                                                                                                                                                    tokens  \n",
       "0  [One, of, the, other, reviewers, has, mentioned, that, after, watching, just, 1, Oz, episode, you, 'll, be, hooked, ., They, are, right, ,, as, this, is, exactly, what, happened, with, me., <, br,...  \n",
       "1  [A, wonderful, little, production, ., <, br, /, >, <, br, /, >, The, filming, technique, is, very, unassuming-, very, old-time-BBC, fashion, and, gives, a, comforting, ,, and, sometimes, discomfor...  \n",
       "2  [I, thought, this, was, a, wonderful, way, to, spend, time, on, a, too, hot, summer, weekend, ,, sitting, in, the, air, conditioned, theater, and, watching, a, light-hearted, comedy, ., The, plot,...  \n",
       "3  [Basically, there, 's, a, family, where, a, little, boy, (, Jake, ), thinks, there, 's, a, zombie, in, his, closet, &, his, parents, are, fighting, all, the, time., <, br, /, >, <, br, /, >, This,...  \n",
       "4  [Petter, Mattei, 's, ``, Love, in, the, Time, of, Money, '', is, a, visually, stunning, film, to, watch, ., Mr., Mattei, offers, us, a, vivid, portrait, about, human, relations, ., This, is, a, mo...  "
      ]
     },
     "execution_count": 10,
     "metadata": {},
     "output_type": "execute_result"
    }
   ],
   "source": [
    "#view the first few rows of the text column and the newly added column\n",
    "df[[\"text\", \"tokens\"]].head()"
   ]
  },
  {
   "cell_type": "markdown",
   "metadata": {},
   "source": [
    "The tokens column has separated out each word from the full string for it to continue to be used during additional columns that are added. "
   ]
  },
  {
   "cell_type": "markdown",
   "metadata": {},
   "source": [
    "#### Adding a New Column for Tagged Tokens\n",
    "\n",
    "The use of the pos_tag function will allow a new column to be created that has a list of tokens that are tagged, not raw text. This will include the Penn Part of Speech Tags: https://cs.nyu.edu/grishman/jet/guide/PennPOS.html."
   ]
  },
  {
   "cell_type": "code",
   "execution_count": 11,
   "metadata": {},
   "outputs": [],
   "source": [
    "df[\"tagged_tokens\"] = df.tokens.apply(lambda x: nltk.pos_tag(x))"
   ]
  },
  {
   "cell_type": "code",
   "execution_count": 12,
   "metadata": {
    "scrolled": true
   },
   "outputs": [
    {
     "data": {
      "text/html": [
       "<div>\n",
       "<style scoped>\n",
       "    .dataframe tbody tr th:only-of-type {\n",
       "        vertical-align: middle;\n",
       "    }\n",
       "\n",
       "    .dataframe tbody tr th {\n",
       "        vertical-align: top;\n",
       "    }\n",
       "\n",
       "    .dataframe thead th {\n",
       "        text-align: right;\n",
       "    }\n",
       "</style>\n",
       "<table border=\"1\" class=\"dataframe\">\n",
       "  <thead>\n",
       "    <tr style=\"text-align: right;\">\n",
       "      <th></th>\n",
       "      <th>text</th>\n",
       "      <th>tokens</th>\n",
       "      <th>tagged_tokens</th>\n",
       "    </tr>\n",
       "  </thead>\n",
       "  <tbody>\n",
       "    <tr>\n",
       "      <th>0</th>\n",
       "      <td>One of the other reviewers has mentioned that after watching just 1 Oz episode you'll be hooked. They are right, as this is exactly what happened with me.&lt;br /&gt;&lt;br /&gt;The first thing that struck me...</td>\n",
       "      <td>[One, of, the, other, reviewers, has, mentioned, that, after, watching, just, 1, Oz, episode, you, 'll, be, hooked, ., They, are, right, ,, as, this, is, exactly, what, happened, with, me., &lt;, br,...</td>\n",
       "      <td>[(One, CD), (of, IN), (the, DT), (other, JJ), (reviewers, NNS), (has, VBZ), (mentioned, VBN), (that, IN), (after, IN), (watching, VBG), (just, RB), (1, CD), (Oz, NNP), (episode, NN), (you, PRP), (...</td>\n",
       "    </tr>\n",
       "    <tr>\n",
       "      <th>1</th>\n",
       "      <td>A wonderful little production. &lt;br /&gt;&lt;br /&gt;The filming technique is very unassuming- very old-time-BBC fashion and gives a comforting, and sometimes discomforting, sense of realism to the entire p...</td>\n",
       "      <td>[A, wonderful, little, production, ., &lt;, br, /, &gt;, &lt;, br, /, &gt;, The, filming, technique, is, very, unassuming-, very, old-time-BBC, fashion, and, gives, a, comforting, ,, and, sometimes, discomfor...</td>\n",
       "      <td>[(A, DT), (wonderful, JJ), (little, JJ), (production, NN), (., .), (&lt;, JJ), (br, NN), (/, NNP), (&gt;, NNP), (&lt;, NNP), (br, NN), (/, NNP), (&gt;, VBZ), (The, DT), (filming, NN), (technique, NN), (is, VB...</td>\n",
       "    </tr>\n",
       "    <tr>\n",
       "      <th>2</th>\n",
       "      <td>I thought this was a wonderful way to spend time on a too hot summer weekend, sitting in the air conditioned theater and watching a light-hearted comedy. The plot is simplistic, but the dialogue i...</td>\n",
       "      <td>[I, thought, this, was, a, wonderful, way, to, spend, time, on, a, too, hot, summer, weekend, ,, sitting, in, the, air, conditioned, theater, and, watching, a, light-hearted, comedy, ., The, plot,...</td>\n",
       "      <td>[(I, PRP), (thought, VBD), (this, DT), (was, VBD), (a, DT), (wonderful, JJ), (way, NN), (to, TO), (spend, VB), (time, NN), (on, IN), (a, DT), (too, RB), (hot, JJ), (summer, NN), (weekend, NN), (,,...</td>\n",
       "    </tr>\n",
       "    <tr>\n",
       "      <th>3</th>\n",
       "      <td>Basically there's a family where a little boy (Jake) thinks there's a zombie in his closet &amp; his parents are fighting all the time.&lt;br /&gt;&lt;br /&gt;This movie is slower than a soap opera... and suddenl...</td>\n",
       "      <td>[Basically, there, 's, a, family, where, a, little, boy, (, Jake, ), thinks, there, 's, a, zombie, in, his, closet, &amp;, his, parents, are, fighting, all, the, time., &lt;, br, /, &gt;, &lt;, br, /, &gt;, This,...</td>\n",
       "      <td>[(Basically, NNP), (there, EX), ('s, VBZ), (a, DT), (family, NN), (where, WRB), (a, DT), (little, JJ), (boy, NN), ((, (), (Jake, NNP), (), )), (thinks, VBZ), (there, EX), ('s, VBZ), (a, DT), (zomb...</td>\n",
       "    </tr>\n",
       "    <tr>\n",
       "      <th>4</th>\n",
       "      <td>Petter Mattei's \"Love in the Time of Money\" is a visually stunning film to watch. Mr. Mattei offers us a vivid portrait about human relations. This is a movie that seems to be telling us what mone...</td>\n",
       "      <td>[Petter, Mattei, 's, ``, Love, in, the, Time, of, Money, '', is, a, visually, stunning, film, to, watch, ., Mr., Mattei, offers, us, a, vivid, portrait, about, human, relations, ., This, is, a, mo...</td>\n",
       "      <td>[(Petter, NNP), (Mattei, NNP), ('s, POS), (``, ``), (Love, NNP), (in, IN), (the, DT), (Time, NNP), (of, IN), (Money, NNP), ('', ''), (is, VBZ), (a, DT), (visually, RB), (stunning, JJ), (film, NN),...</td>\n",
       "    </tr>\n",
       "  </tbody>\n",
       "</table>\n",
       "</div>"
      ],
      "text/plain": [
       "                                                                                                                                                                                                      text  \\\n",
       "0  One of the other reviewers has mentioned that after watching just 1 Oz episode you'll be hooked. They are right, as this is exactly what happened with me.<br /><br />The first thing that struck me...   \n",
       "1  A wonderful little production. <br /><br />The filming technique is very unassuming- very old-time-BBC fashion and gives a comforting, and sometimes discomforting, sense of realism to the entire p...   \n",
       "2  I thought this was a wonderful way to spend time on a too hot summer weekend, sitting in the air conditioned theater and watching a light-hearted comedy. The plot is simplistic, but the dialogue i...   \n",
       "3  Basically there's a family where a little boy (Jake) thinks there's a zombie in his closet & his parents are fighting all the time.<br /><br />This movie is slower than a soap opera... and suddenl...   \n",
       "4  Petter Mattei's \"Love in the Time of Money\" is a visually stunning film to watch. Mr. Mattei offers us a vivid portrait about human relations. This is a movie that seems to be telling us what mone...   \n",
       "\n",
       "                                                                                                                                                                                                    tokens  \\\n",
       "0  [One, of, the, other, reviewers, has, mentioned, that, after, watching, just, 1, Oz, episode, you, 'll, be, hooked, ., They, are, right, ,, as, this, is, exactly, what, happened, with, me., <, br,...   \n",
       "1  [A, wonderful, little, production, ., <, br, /, >, <, br, /, >, The, filming, technique, is, very, unassuming-, very, old-time-BBC, fashion, and, gives, a, comforting, ,, and, sometimes, discomfor...   \n",
       "2  [I, thought, this, was, a, wonderful, way, to, spend, time, on, a, too, hot, summer, weekend, ,, sitting, in, the, air, conditioned, theater, and, watching, a, light-hearted, comedy, ., The, plot,...   \n",
       "3  [Basically, there, 's, a, family, where, a, little, boy, (, Jake, ), thinks, there, 's, a, zombie, in, his, closet, &, his, parents, are, fighting, all, the, time., <, br, /, >, <, br, /, >, This,...   \n",
       "4  [Petter, Mattei, 's, ``, Love, in, the, Time, of, Money, '', is, a, visually, stunning, film, to, watch, ., Mr., Mattei, offers, us, a, vivid, portrait, about, human, relations, ., This, is, a, mo...   \n",
       "\n",
       "                                                                                                                                                                                             tagged_tokens  \n",
       "0  [(One, CD), (of, IN), (the, DT), (other, JJ), (reviewers, NNS), (has, VBZ), (mentioned, VBN), (that, IN), (after, IN), (watching, VBG), (just, RB), (1, CD), (Oz, NNP), (episode, NN), (you, PRP), (...  \n",
       "1  [(A, DT), (wonderful, JJ), (little, JJ), (production, NN), (., .), (<, JJ), (br, NN), (/, NNP), (>, NNP), (<, NNP), (br, NN), (/, NNP), (>, VBZ), (The, DT), (filming, NN), (technique, NN), (is, VB...  \n",
       "2  [(I, PRP), (thought, VBD), (this, DT), (was, VBD), (a, DT), (wonderful, JJ), (way, NN), (to, TO), (spend, VB), (time, NN), (on, IN), (a, DT), (too, RB), (hot, JJ), (summer, NN), (weekend, NN), (,,...  \n",
       "3  [(Basically, NNP), (there, EX), ('s, VBZ), (a, DT), (family, NN), (where, WRB), (a, DT), (little, JJ), (boy, NN), ((, (), (Jake, NNP), (), )), (thinks, VBZ), (there, EX), ('s, VBZ), (a, DT), (zomb...  \n",
       "4  [(Petter, NNP), (Mattei, NNP), ('s, POS), (``, ``), (Love, NNP), (in, IN), (the, DT), (Time, NNP), (of, IN), (Money, NNP), ('', ''), (is, VBZ), (a, DT), (visually, RB), (stunning, JJ), (film, NN),...  "
      ]
     },
     "execution_count": 12,
     "metadata": {},
     "output_type": "execute_result"
    }
   ],
   "source": [
    "df[[\"text\", \"tokens\", \"tagged_tokens\"]].head()\n",
    "#the new column is a list of tuples"
   ]
  },
  {
   "cell_type": "markdown",
   "metadata": {},
   "source": [
    "#### Adding New Columns for Sentiment (Polarity and Subjectivity)\n",
    "\n",
    "Two new columns will be added for the below which will allow easy analysis of the data at a deeper level using TextBlob. \n",
    "- Polarity between 1 which means positive statement and -1 means a negative statement\n",
    "- Subjectivity between 0 (objective) and 1 (subjective)"
   ]
  },
  {
   "cell_type": "code",
   "execution_count": 13,
   "metadata": {},
   "outputs": [],
   "source": [
    "df[\"polarity\"] = df.text.apply(lambda x: TextBlob(x).sentiment.polarity)\n",
    "df[\"subjectivity\"] = df.text.apply(lambda x: TextBlob(x).sentiment.subjectivity)"
   ]
  },
  {
   "cell_type": "code",
   "execution_count": 14,
   "metadata": {
    "scrolled": false
   },
   "outputs": [
    {
     "data": {
      "text/html": [
       "<div>\n",
       "<style scoped>\n",
       "    .dataframe tbody tr th:only-of-type {\n",
       "        vertical-align: middle;\n",
       "    }\n",
       "\n",
       "    .dataframe tbody tr th {\n",
       "        vertical-align: top;\n",
       "    }\n",
       "\n",
       "    .dataframe thead th {\n",
       "        text-align: right;\n",
       "    }\n",
       "</style>\n",
       "<table border=\"1\" class=\"dataframe\">\n",
       "  <thead>\n",
       "    <tr style=\"text-align: right;\">\n",
       "      <th></th>\n",
       "      <th>text</th>\n",
       "      <th>polarity</th>\n",
       "      <th>subjectivity</th>\n",
       "    </tr>\n",
       "  </thead>\n",
       "  <tbody>\n",
       "    <tr>\n",
       "      <th>0</th>\n",
       "      <td>One of the other reviewers has mentioned that after watching just 1 Oz episode you'll be hooked. They are right, as this is exactly what happened with me.&lt;br /&gt;&lt;br /&gt;The first thing that struck me...</td>\n",
       "      <td>0.023433</td>\n",
       "      <td>0.490369</td>\n",
       "    </tr>\n",
       "    <tr>\n",
       "      <th>1</th>\n",
       "      <td>A wonderful little production. &lt;br /&gt;&lt;br /&gt;The filming technique is very unassuming- very old-time-BBC fashion and gives a comforting, and sometimes discomforting, sense of realism to the entire p...</td>\n",
       "      <td>0.109722</td>\n",
       "      <td>0.559343</td>\n",
       "    </tr>\n",
       "    <tr>\n",
       "      <th>2</th>\n",
       "      <td>I thought this was a wonderful way to spend time on a too hot summer weekend, sitting in the air conditioned theater and watching a light-hearted comedy. The plot is simplistic, but the dialogue i...</td>\n",
       "      <td>0.354008</td>\n",
       "      <td>0.658730</td>\n",
       "    </tr>\n",
       "    <tr>\n",
       "      <th>3</th>\n",
       "      <td>Basically there's a family where a little boy (Jake) thinks there's a zombie in his closet &amp; his parents are fighting all the time.&lt;br /&gt;&lt;br /&gt;This movie is slower than a soap opera... and suddenl...</td>\n",
       "      <td>-0.057813</td>\n",
       "      <td>0.454167</td>\n",
       "    </tr>\n",
       "    <tr>\n",
       "      <th>4</th>\n",
       "      <td>Petter Mattei's \"Love in the Time of Money\" is a visually stunning film to watch. Mr. Mattei offers us a vivid portrait about human relations. This is a movie that seems to be telling us what mone...</td>\n",
       "      <td>0.217952</td>\n",
       "      <td>0.452916</td>\n",
       "    </tr>\n",
       "  </tbody>\n",
       "</table>\n",
       "</div>"
      ],
      "text/plain": [
       "                                                                                                                                                                                                      text  \\\n",
       "0  One of the other reviewers has mentioned that after watching just 1 Oz episode you'll be hooked. They are right, as this is exactly what happened with me.<br /><br />The first thing that struck me...   \n",
       "1  A wonderful little production. <br /><br />The filming technique is very unassuming- very old-time-BBC fashion and gives a comforting, and sometimes discomforting, sense of realism to the entire p...   \n",
       "2  I thought this was a wonderful way to spend time on a too hot summer weekend, sitting in the air conditioned theater and watching a light-hearted comedy. The plot is simplistic, but the dialogue i...   \n",
       "3  Basically there's a family where a little boy (Jake) thinks there's a zombie in his closet & his parents are fighting all the time.<br /><br />This movie is slower than a soap opera... and suddenl...   \n",
       "4  Petter Mattei's \"Love in the Time of Money\" is a visually stunning film to watch. Mr. Mattei offers us a vivid portrait about human relations. This is a movie that seems to be telling us what mone...   \n",
       "\n",
       "   polarity  subjectivity  \n",
       "0  0.023433      0.490369  \n",
       "1  0.109722      0.559343  \n",
       "2  0.354008      0.658730  \n",
       "3 -0.057813      0.454167  \n",
       "4  0.217952      0.452916  "
      ]
     },
     "execution_count": 14,
     "metadata": {},
     "output_type": "execute_result"
    }
   ],
   "source": [
    "df[[\"text\", \"polarity\", \"subjectivity\"]].head()"
   ]
  },
  {
   "cell_type": "markdown",
   "metadata": {},
   "source": [
    "With these additional columns, we can now start to explore and analyze the data looking for interesting patterns and trends as below. "
   ]
  },
  {
   "cell_type": "code",
   "execution_count": 21,
   "metadata": {
    "scrolled": false
   },
   "outputs": [
    {
     "data": {
      "text/html": [
       "<div>\n",
       "<style scoped>\n",
       "    .dataframe tbody tr th:only-of-type {\n",
       "        vertical-align: middle;\n",
       "    }\n",
       "\n",
       "    .dataframe tbody tr th {\n",
       "        vertical-align: top;\n",
       "    }\n",
       "\n",
       "    .dataframe thead th {\n",
       "        text-align: right;\n",
       "    }\n",
       "</style>\n",
       "<table border=\"1\" class=\"dataframe\">\n",
       "  <thead>\n",
       "    <tr style=\"text-align: right;\">\n",
       "      <th></th>\n",
       "      <th>text</th>\n",
       "      <th>polarity</th>\n",
       "    </tr>\n",
       "  </thead>\n",
       "  <tbody>\n",
       "    <tr>\n",
       "      <th>205</th>\n",
       "      <td>A new way to enjoy Goldsworthy's work, Rivers and Tides allows fans to see his work in motion. Watching Goldsworthy build his pieces, one develops an appreciation for every stone, leaf, and thorn ...</td>\n",
       "      <td>0.562338</td>\n",
       "    </tr>\n",
       "    <tr>\n",
       "      <th>232</th>\n",
       "      <td>I saw this movie in the theater, and was thoroughly impressed by it. Then again, that was when Claire Danes was a good actress, not the foolish, arrogant, Hollywood-ized bitch she is today. Anyway...</td>\n",
       "      <td>0.517658</td>\n",
       "    </tr>\n",
       "    <tr>\n",
       "      <th>305</th>\n",
       "      <td>I thought this movie was stunning, with completely outstanding performances by Valentina Cervi (Artemisia Gentileschi).&lt;br /&gt;&lt;br /&gt;Cervi portrays Artemisia so beautifully, with tentative yet confi...</td>\n",
       "      <td>0.536667</td>\n",
       "    </tr>\n",
       "    <tr>\n",
       "      <th>329</th>\n",
       "      <td>What a surprisingly good movie this one turned out to be. This is the type of film that I've been looking for ages. Particularly important for me was the fantastic-looking Chicago, which I still k...</td>\n",
       "      <td>0.520000</td>\n",
       "    </tr>\n",
       "    <tr>\n",
       "      <th>412</th>\n",
       "      <td>Ah, another movie with motorcycles, hell's angels posse and Steve A-Lame-o as the not-so-cool car driver. This movie does not rely on story but lots of drinking, pot smoking, and lots of moronic a...</td>\n",
       "      <td>0.537500</td>\n",
       "    </tr>\n",
       "    <tr>\n",
       "      <th>491</th>\n",
       "      <td>This movie does a great job of explaining the problems that we faced and the fears that we had before we put man into space. As a history of space flight, it is still used today in classrooms that...</td>\n",
       "      <td>0.550000</td>\n",
       "    </tr>\n",
       "    <tr>\n",
       "      <th>532</th>\n",
       "      <td>I read the book before seeing the movie, and the film is one of the best adaptations out there. Very true and faithful to the book. Sean Penn and Sarandon are amazing. Robbins is a talented filmak...</td>\n",
       "      <td>0.581875</td>\n",
       "    </tr>\n",
       "    <tr>\n",
       "      <th>812</th>\n",
       "      <td>As if the film were not of value in itself, this is an excellent way to get an overview of the novel as a preface to reading it. In the summer of 1968 I saw the film in NYC; that fall in graduate ...</td>\n",
       "      <td>0.537500</td>\n",
       "    </tr>\n",
       "    <tr>\n",
       "      <th>832</th>\n",
       "      <td>As far as I know the real guy that the main actor is playing saw his performance and said it was an outstanding portrayal, I'd agree with him. This is a fantastic film about a quite gifted boy/man...</td>\n",
       "      <td>0.557198</td>\n",
       "    </tr>\n",
       "    <tr>\n",
       "      <th>853</th>\n",
       "      <td>So real and surreal, all in one. I remember feeling like Tessa. Heck, I remember being Tessa. This was a beautiful vignette of a relationship ending. I especially liked the protesters tangent. It ...</td>\n",
       "      <td>0.533333</td>\n",
       "    </tr>\n",
       "  </tbody>\n",
       "</table>\n",
       "</div>"
      ],
      "text/plain": [
       "                                                                                                                                                                                                        text  \\\n",
       "205  A new way to enjoy Goldsworthy's work, Rivers and Tides allows fans to see his work in motion. Watching Goldsworthy build his pieces, one develops an appreciation for every stone, leaf, and thorn ...   \n",
       "232  I saw this movie in the theater, and was thoroughly impressed by it. Then again, that was when Claire Danes was a good actress, not the foolish, arrogant, Hollywood-ized bitch she is today. Anyway...   \n",
       "305  I thought this movie was stunning, with completely outstanding performances by Valentina Cervi (Artemisia Gentileschi).<br /><br />Cervi portrays Artemisia so beautifully, with tentative yet confi...   \n",
       "329  What a surprisingly good movie this one turned out to be. This is the type of film that I've been looking for ages. Particularly important for me was the fantastic-looking Chicago, which I still k...   \n",
       "412  Ah, another movie with motorcycles, hell's angels posse and Steve A-Lame-o as the not-so-cool car driver. This movie does not rely on story but lots of drinking, pot smoking, and lots of moronic a...   \n",
       "491  This movie does a great job of explaining the problems that we faced and the fears that we had before we put man into space. As a history of space flight, it is still used today in classrooms that...   \n",
       "532  I read the book before seeing the movie, and the film is one of the best adaptations out there. Very true and faithful to the book. Sean Penn and Sarandon are amazing. Robbins is a talented filmak...   \n",
       "812  As if the film were not of value in itself, this is an excellent way to get an overview of the novel as a preface to reading it. In the summer of 1968 I saw the film in NYC; that fall in graduate ...   \n",
       "832  As far as I know the real guy that the main actor is playing saw his performance and said it was an outstanding portrayal, I'd agree with him. This is a fantastic film about a quite gifted boy/man...   \n",
       "853  So real and surreal, all in one. I remember feeling like Tessa. Heck, I remember being Tessa. This was a beautiful vignette of a relationship ending. I especially liked the protesters tangent. It ...   \n",
       "\n",
       "     polarity  \n",
       "205  0.562338  \n",
       "232  0.517658  \n",
       "305  0.536667  \n",
       "329  0.520000  \n",
       "412  0.537500  \n",
       "491  0.550000  \n",
       "532  0.581875  \n",
       "812  0.537500  \n",
       "832  0.557198  \n",
       "853  0.533333  "
      ]
     },
     "execution_count": 21,
     "metadata": {},
     "output_type": "execute_result"
    }
   ],
   "source": [
    "df[(df.polarity > 0.5)][[\"text\", \"polarity\"]]"
   ]
  },
  {
   "cell_type": "markdown",
   "metadata": {},
   "source": [
    "Of the 1000 movie reviews there are only 10 that are highly positive and would have thoroughly enjoyed the associated movie. "
   ]
  },
  {
   "cell_type": "code",
   "execution_count": 24,
   "metadata": {
    "scrolled": true
   },
   "outputs": [
    {
     "data": {
      "text/html": [
       "<div>\n",
       "<style scoped>\n",
       "    .dataframe tbody tr th:only-of-type {\n",
       "        vertical-align: middle;\n",
       "    }\n",
       "\n",
       "    .dataframe tbody tr th {\n",
       "        vertical-align: top;\n",
       "    }\n",
       "\n",
       "    .dataframe thead th {\n",
       "        text-align: right;\n",
       "    }\n",
       "</style>\n",
       "<table border=\"1\" class=\"dataframe\">\n",
       "  <thead>\n",
       "    <tr style=\"text-align: right;\">\n",
       "      <th></th>\n",
       "      <th>text</th>\n",
       "      <th>polarity</th>\n",
       "    </tr>\n",
       "  </thead>\n",
       "  <tbody>\n",
       "    <tr>\n",
       "      <th>84</th>\n",
       "      <td>We brought this film as a joke for a friend, and could of been our worst joke to play. The film is barely watchable, and the acting is dire. The worst child actor ever used and Hasslehoff giving a...</td>\n",
       "      <td>-0.568750</td>\n",
       "    </tr>\n",
       "    <tr>\n",
       "      <th>162</th>\n",
       "      <td>I can't believe it that was the worst movie i have ever seen in my life. i laughed a couple of times. ( probably because of how stupid it was ) If someone paid me to see that movie again i wouldn'...</td>\n",
       "      <td>-0.542857</td>\n",
       "    </tr>\n",
       "    <tr>\n",
       "      <th>281</th>\n",
       "      <td>After a very scary, crude opening which gives you that creepy \"Chainsaw massacre\"-feeling, everything falls apart.&lt;br /&gt;&lt;br /&gt;SPOILER ALERT: As soon as the two FBI-officers start jabbing, you know...</td>\n",
       "      <td>-0.446591</td>\n",
       "    </tr>\n",
       "    <tr>\n",
       "      <th>413</th>\n",
       "      <td>A rating of \"1\" does not begin to express how dull, depressing and relentlessly bad this movie is.</td>\n",
       "      <td>-0.530556</td>\n",
       "    </tr>\n",
       "    <tr>\n",
       "      <th>554</th>\n",
       "      <td>If you watched Pulp Fiction don't see this movie. This movie is NOT funny. This is the worst parody movie ever. This is a poor attempt of parody films.&lt;br /&gt;&lt;br /&gt;The cast is bad. The film is bad....</td>\n",
       "      <td>-0.407692</td>\n",
       "    </tr>\n",
       "  </tbody>\n",
       "</table>\n",
       "</div>"
      ],
      "text/plain": [
       "                                                                                                                                                                                                        text  \\\n",
       "84   We brought this film as a joke for a friend, and could of been our worst joke to play. The film is barely watchable, and the acting is dire. The worst child actor ever used and Hasslehoff giving a...   \n",
       "162  I can't believe it that was the worst movie i have ever seen in my life. i laughed a couple of times. ( probably because of how stupid it was ) If someone paid me to see that movie again i wouldn'...   \n",
       "281  After a very scary, crude opening which gives you that creepy \"Chainsaw massacre\"-feeling, everything falls apart.<br /><br />SPOILER ALERT: As soon as the two FBI-officers start jabbing, you know...   \n",
       "413                                                                                                       A rating of \"1\" does not begin to express how dull, depressing and relentlessly bad this movie is.   \n",
       "554  If you watched Pulp Fiction don't see this movie. This movie is NOT funny. This is the worst parody movie ever. This is a poor attempt of parody films.<br /><br />The cast is bad. The film is bad....   \n",
       "\n",
       "     polarity  \n",
       "84  -0.568750  \n",
       "162 -0.542857  \n",
       "281 -0.446591  \n",
       "413 -0.530556  \n",
       "554 -0.407692  "
      ]
     },
     "execution_count": 24,
     "metadata": {},
     "output_type": "execute_result"
    }
   ],
   "source": [
    "df[(df.polarity < -0.4)][[\"text\", \"polarity\"]].head()"
   ]
  },
  {
   "cell_type": "markdown",
   "metadata": {},
   "source": [
    "As exploring the data that has more negativity in the reviews would show these 5 reviewers were most likely the least happy watching the movie. There is not much data at each extreme ends of the scale."
   ]
  },
  {
   "cell_type": "markdown",
   "metadata": {},
   "source": [
    "Often a lot can be told by the first couple of words in the review so I will next be exploring only the first fifteen characters of the column <i>text</i>."
   ]
  },
  {
   "cell_type": "code",
   "execution_count": 27,
   "metadata": {
    "scrolled": false
   },
   "outputs": [
    {
     "data": {
      "text/html": [
       "<div>\n",
       "<style scoped>\n",
       "    .dataframe tbody tr th:only-of-type {\n",
       "        vertical-align: middle;\n",
       "    }\n",
       "\n",
       "    .dataframe tbody tr th {\n",
       "        vertical-align: top;\n",
       "    }\n",
       "\n",
       "    .dataframe thead th {\n",
       "        text-align: right;\n",
       "    }\n",
       "</style>\n",
       "<table border=\"1\" class=\"dataframe\">\n",
       "  <thead>\n",
       "    <tr style=\"text-align: right;\">\n",
       "      <th></th>\n",
       "      <th>text</th>\n",
       "      <th>text_short</th>\n",
       "      <th>polarity</th>\n",
       "    </tr>\n",
       "  </thead>\n",
       "  <tbody>\n",
       "    <tr>\n",
       "      <th>0</th>\n",
       "      <td>One of the other reviewers has mentioned that after watching just 1 Oz episode you'll be hooked. They are right, as this is exactly what happened with me.&lt;br /&gt;&lt;br /&gt;The first thing that struck me...</td>\n",
       "      <td>One of the othe</td>\n",
       "      <td>0.023433</td>\n",
       "    </tr>\n",
       "    <tr>\n",
       "      <th>1</th>\n",
       "      <td>A wonderful little production. &lt;br /&gt;&lt;br /&gt;The filming technique is very unassuming- very old-time-BBC fashion and gives a comforting, and sometimes discomforting, sense of realism to the entire p...</td>\n",
       "      <td>A wonderful lit</td>\n",
       "      <td>0.109722</td>\n",
       "    </tr>\n",
       "    <tr>\n",
       "      <th>2</th>\n",
       "      <td>I thought this was a wonderful way to spend time on a too hot summer weekend, sitting in the air conditioned theater and watching a light-hearted comedy. The plot is simplistic, but the dialogue i...</td>\n",
       "      <td>I thought this</td>\n",
       "      <td>0.354008</td>\n",
       "    </tr>\n",
       "    <tr>\n",
       "      <th>3</th>\n",
       "      <td>Basically there's a family where a little boy (Jake) thinks there's a zombie in his closet &amp; his parents are fighting all the time.&lt;br /&gt;&lt;br /&gt;This movie is slower than a soap opera... and suddenl...</td>\n",
       "      <td>Basically there</td>\n",
       "      <td>-0.057813</td>\n",
       "    </tr>\n",
       "    <tr>\n",
       "      <th>4</th>\n",
       "      <td>Petter Mattei's \"Love in the Time of Money\" is a visually stunning film to watch. Mr. Mattei offers us a vivid portrait about human relations. This is a movie that seems to be telling us what mone...</td>\n",
       "      <td>Petter Mattei's</td>\n",
       "      <td>0.217952</td>\n",
       "    </tr>\n",
       "  </tbody>\n",
       "</table>\n",
       "</div>"
      ],
      "text/plain": [
       "                                                                                                                                                                                                      text  \\\n",
       "0  One of the other reviewers has mentioned that after watching just 1 Oz episode you'll be hooked. They are right, as this is exactly what happened with me.<br /><br />The first thing that struck me...   \n",
       "1  A wonderful little production. <br /><br />The filming technique is very unassuming- very old-time-BBC fashion and gives a comforting, and sometimes discomforting, sense of realism to the entire p...   \n",
       "2  I thought this was a wonderful way to spend time on a too hot summer weekend, sitting in the air conditioned theater and watching a light-hearted comedy. The plot is simplistic, but the dialogue i...   \n",
       "3  Basically there's a family where a little boy (Jake) thinks there's a zombie in his closet & his parents are fighting all the time.<br /><br />This movie is slower than a soap opera... and suddenl...   \n",
       "4  Petter Mattei's \"Love in the Time of Money\" is a visually stunning film to watch. Mr. Mattei offers us a vivid portrait about human relations. This is a movie that seems to be telling us what mone...   \n",
       "\n",
       "        text_short  polarity  \n",
       "0  One of the othe  0.023433  \n",
       "1  A wonderful lit  0.109722  \n",
       "2  I thought this   0.354008  \n",
       "3  Basically there -0.057813  \n",
       "4  Petter Mattei's  0.217952  "
      ]
     },
     "execution_count": 27,
     "metadata": {},
     "output_type": "execute_result"
    }
   ],
   "source": [
    "df[\"text_short\"] = df.text.apply(lambda x: x[:15])\n",
    "df[[\"text\", \"text_short\", \"polarity\"]].head()"
   ]
  },
  {
   "cell_type": "markdown",
   "metadata": {},
   "source": [
    "This can be used as a quick snippet to understand how the review starts in conjunction with polarity see some of the data.\n",
    "\n",
    "To explore the specific keywords, I will be analyzing popular keywords below."
   ]
  },
  {
   "cell_type": "markdown",
   "metadata": {},
   "source": [
    "## Keyword Analysis"
   ]
  },
  {
   "cell_type": "code",
   "execution_count": 34,
   "metadata": {
    "scrolled": true
   },
   "outputs": [
    {
     "data": {
      "text/plain": [
       "0    [(One, CD), (of, IN), (the, DT), (other, JJ), (reviewers, NNS), (has, VBZ), (mentioned, VBN), (that, IN), (after, IN), (watching, VBG), (just, RB), (1, CD), (Oz, NNP), (episode, NN), (you, PRP), (...\n",
       "1    [(A, DT), (wonderful, JJ), (little, JJ), (production, NN), (., .), (<, JJ), (br, NN), (/, NNP), (>, NNP), (<, NNP), (br, NN), (/, NNP), (>, VBZ), (The, DT), (filming, NN), (technique, NN), (is, VB...\n",
       "2    [(I, PRP), (thought, VBD), (this, DT), (was, VBD), (a, DT), (wonderful, JJ), (way, NN), (to, TO), (spend, VB), (time, NN), (on, IN), (a, DT), (too, RB), (hot, JJ), (summer, NN), (weekend, NN), (,,...\n",
       "3    [(Basically, NNP), (there, EX), ('s, VBZ), (a, DT), (family, NN), (where, WRB), (a, DT), (little, JJ), (boy, NN), ((, (), (Jake, NNP), (), )), (thinks, VBZ), (there, EX), ('s, VBZ), (a, DT), (zomb...\n",
       "4    [(Petter, NNP), (Mattei, NNP), ('s, POS), (``, ``), (Love, NNP), (in, IN), (the, DT), (Time, NNP), (of, IN), (Money, NNP), ('', ''), (is, VBZ), (a, DT), (visually, RB), (stunning, JJ), (film, NN),...\n",
       "Name: tagged_tokens, dtype: object"
      ]
     },
     "execution_count": 34,
     "metadata": {},
     "output_type": "execute_result"
    }
   ],
   "source": [
    "#quick view first 5 rows\n",
    "df.tagged_tokens[:5]"
   ]
  },
  {
   "cell_type": "markdown",
   "metadata": {},
   "source": [
    "I will now use a new function that pulls out each word into a tuple that can be accessed and used for analysis. There are several filler words that are not meaningful so these stopwords will be removed from the analysis."
   ]
  },
  {
   "cell_type": "code",
   "execution_count": 36,
   "metadata": {},
   "outputs": [],
   "source": [
    "global_stopwords = nltk.corpus.stopwords.words(\"english\")"
   ]
  },
  {
   "cell_type": "code",
   "execution_count": 45,
   "metadata": {
    "scrolled": true
   },
   "outputs": [
    {
     "data": {
      "text/plain": [
       "[('.', 990),\n",
       " (',', 959),\n",
       " (\"'s\", 702),\n",
       " ('movie', 614),\n",
       " (\"n't\", 597),\n",
       " ('/', 588),\n",
       " ('br', 587),\n",
       " ('>', 587),\n",
       " ('<', 587),\n",
       " ('film', 544),\n",
       " ('one', 539),\n",
       " (')', 531),\n",
       " ('(', 528),\n",
       " ('like', 458),\n",
       " ('``', 451),\n",
       " (\"''\", 450),\n",
       " ('!', 374),\n",
       " ('would', 350),\n",
       " ('even', 348),\n",
       " ('good', 343)]"
      ]
     },
     "execution_count": 45,
     "metadata": {},
     "output_type": "execute_result"
    }
   ],
   "source": [
    "counter = Counter()\n",
    "\n",
    "for pos in df.tagged_tokens:\n",
    "    word_set = set()\n",
    "    \n",
    "    for t in pos:\n",
    "        word = t[0].lower()\n",
    "        \n",
    "        ###################################\n",
    "        # Check if the word is a stopword\n",
    "        ###################################\n",
    "        if word in global_stopwords:\n",
    "            continue\n",
    "        else:\n",
    "            word_set.add(word)\n",
    "            \n",
    "    counter.update(word_set)\n",
    "    \n",
    "counter.most_common(20)"
   ]
  },
  {
   "cell_type": "markdown",
   "metadata": {},
   "source": [
    "As there are a number of punctuation symbols displaying, these will also be removed and the code re-ran."
   ]
  },
  {
   "cell_type": "code",
   "execution_count": 51,
   "metadata": {
    "scrolled": true
   },
   "outputs": [
    {
     "data": {
      "text/plain": [
       "[('movie', 614),\n",
       " ('film', 544),\n",
       " ('one', 539),\n",
       " ('like', 458),\n",
       " ('would', 350),\n",
       " ('even', 348),\n",
       " ('good', 343),\n",
       " ('see', 339),\n",
       " ('time', 310),\n",
       " ('really', 309),\n",
       " ('get', 308),\n",
       " ('story', 302),\n",
       " ('much', 285),\n",
       " ('well', 282),\n",
       " ('made', 256),\n",
       " ('could', 255),\n",
       " ('way', 254),\n",
       " ('also', 252),\n",
       " ('first', 251),\n",
       " ('great', 246),\n",
       " ('people', 241),\n",
       " ('bad', 238),\n",
       " ('make', 231),\n",
       " ('watch', 227),\n",
       " ('think', 227),\n",
       " ('movies', 225),\n",
       " ('never', 220),\n",
       " ('many', 211),\n",
       " ('acting', 206),\n",
       " ('plot', 205)]"
      ]
     },
     "execution_count": 51,
     "metadata": {},
     "output_type": "execute_result"
    }
   ],
   "source": [
    "local_stopwords = [\":\", \";\", \",\", \".\", \"...\", \"!\", \"-\", \"#\", \"(\", \")\", \"@\", \"&\", \"%\", \"'\", \"’\", \"“\", \"”\", \n",
    "                   \"amp\", \"/\", \"<\", \">\", \"?\", \"n't\", \"``\", \"''\", \"'s\", \"'m\", \"'ve\", \"br\", \"https\", \"rt\", \"t…\"] \n",
    "\n",
    "counter = Counter()\n",
    "for pos in df.tagged_tokens:\n",
    "    word_set = set()\n",
    "    \n",
    "    for t in pos:\n",
    "        word = t[0].lower()\n",
    "        \n",
    "        ##########################################################\n",
    "        # Check if the word is either a global or a local stopword.\n",
    "        ##########################################################\n",
    "        if word in (global_stopwords + local_stopwords):\n",
    "            continue\n",
    "        else:\n",
    "            word_set.add(word)\n",
    "            \n",
    "    counter.update(word_set)\n",
    "    \n",
    "counter.most_common(30)"
   ]
  },
  {
   "cell_type": "markdown",
   "metadata": {},
   "source": [
    "From this we can see that the most popular words used in the movie reviews together with the count of how frequently they appear include some of those that you would expect - movie, movies, film, plot - but also give deeper insights into other aspects that are shared. For example, it is common for the reviews to include some indication on the popularity of the movie, discussion on storyline, plot, acting and more. A broad range of topics are covered the in the review text data.\n",
    "As there is still a large amount of data to analyze in this way, I will next look specifically at adjectives and verbs next to drill down further.\n",
    " "
   ]
  },
  {
   "cell_type": "markdown",
   "metadata": {},
   "source": [
    "### Popular Adjectives "
   ]
  },
  {
   "cell_type": "code",
   "execution_count": 52,
   "metadata": {
    "scrolled": true
   },
   "outputs": [
    {
     "data": {
      "text/plain": [
       "[('good', 338),\n",
       " ('great', 237),\n",
       " ('bad', 231),\n",
       " ('many', 210),\n",
       " ('first', 195),\n",
       " ('much', 192),\n",
       " ('little', 181),\n",
       " ('best', 166),\n",
       " ('real', 138),\n",
       " ('old', 120),\n",
       " ('least', 118),\n",
       " ('better', 118),\n",
       " ('funny', 111),\n",
       " ('new', 102),\n",
       " ('young', 101)]"
      ]
     },
     "execution_count": 52,
     "metadata": {},
     "output_type": "execute_result"
    }
   ],
   "source": [
    "counter = Counter()\n",
    "for pos in df.tagged_tokens:\n",
    "    word_set = set()\n",
    "    \n",
    "    for t in pos: \n",
    "        word = t[0].lower() \n",
    "        tag = t[1]\n",
    "        \n",
    "        if word in (global_stopwords + local_stopwords):\n",
    "            continue \n",
    "            \n",
    "        ##########################################################\n",
    "        # Check if the tag matches.\n",
    "        ##########################################################\n",
    "        if tag.startswith(\"JJ\"):\n",
    "            word_set.add(word)\n",
    "            \n",
    "    counter.update(word_set)\n",
    "    \n",
    "counter.most_common(15)"
   ]
  },
  {
   "cell_type": "markdown",
   "metadata": {},
   "source": [
    "The most popular adjectives included positive remarks such as 'good' or 'great' in the movie reviews. In comparison, 'bad' had less than half of the combined count of the first 2 keywords showing there were fewer negative movie reviews. The count for 'funny' is also fairly high indicating for a large number of the reviews comedy aspects were referred to. It is also interesting to see 'best' listed quite high given its strong reference."
   ]
  },
  {
   "cell_type": "markdown",
   "metadata": {},
   "source": [
    "### Popular Verbs"
   ]
  },
  {
   "cell_type": "code",
   "execution_count": 53,
   "metadata": {
    "scrolled": true
   },
   "outputs": [
    {
     "data": {
      "text/plain": [
       "[('see', 335),\n",
       " ('get', 298),\n",
       " ('made', 255),\n",
       " ('make', 229),\n",
       " ('think', 221),\n",
       " ('watch', 206),\n",
       " ('seen', 201),\n",
       " ('know', 194),\n",
       " ('say', 161),\n",
       " ('go', 161),\n",
       " ('watching', 156),\n",
       " ('find', 142),\n",
       " ('makes', 141),\n",
       " ('want', 130),\n",
       " ('going', 126)]"
      ]
     },
     "execution_count": 53,
     "metadata": {},
     "output_type": "execute_result"
    }
   ],
   "source": [
    "counter = Counter()\n",
    "for pos in df.tagged_tokens:\n",
    "    word_set = set()\n",
    "    \n",
    "    for t in pos:\n",
    "        word = t[0].lower()\n",
    "        tag = t[1]\n",
    "        \n",
    "        if word in (global_stopwords + local_stopwords):\n",
    "            continue\n",
    "            \n",
    "        ##########################################################\n",
    "        # Check the tag\n",
    "        ##########################################################\n",
    "        if tag.startswith(\"VB\"):\n",
    "            word_set.add(word)\n",
    "            \n",
    "    counter.update(word_set)\n",
    "    \n",
    "counter.most_common(15)"
   ]
  },
  {
   "cell_type": "markdown",
   "metadata": {},
   "source": [
    "The most popular verbs are those that I suspected with reviewers analyzing what they watched and how it made them think. No real surprises jumped out. "
   ]
  },
  {
   "cell_type": "markdown",
   "metadata": {},
   "source": [
    "## Conclusion\n",
    "\n",
    "Taking the large set of movie review data and performing text processing and mining techniques on it I was able to identify key patterns and trends. For this dataset, the movie reviewers data was largely subjective but showed polarity that was not extensive on either end of the extreme values. The most popular adjective keywords leaned towards positive views as the majority."
   ]
  }
 ],
 "metadata": {
  "kernelspec": {
   "display_name": "Python 3",
   "language": "python",
   "name": "python3"
  },
  "language_info": {
   "codemirror_mode": {
    "name": "ipython",
    "version": 3
   },
   "file_extension": ".py",
   "mimetype": "text/x-python",
   "name": "python",
   "nbconvert_exporter": "python",
   "pygments_lexer": "ipython3",
   "version": "3.7.6"
  }
 },
 "nbformat": 4,
 "nbformat_minor": 1
}
